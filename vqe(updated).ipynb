{
  "nbformat": 4,
  "nbformat_minor": 0,
  "metadata": {
    "colab": {
      "name": "Untitled0.ipynb",
      "provenance": [],
      "include_colab_link": true
    },
    "kernelspec": {
      "name": "python3",
      "display_name": "Python 3"
    },
    "language_info": {
      "name": "python"
    }
  },
  "cells": [
    {
      "cell_type": "markdown",
      "metadata": {
        "id": "view-in-github",
        "colab_type": "text"
      },
      "source": [
        "<a href=\"https://colab.research.google.com/github/gmlejarza/quantum_algorithms/blob/master/vqe(updated).ipynb\" target=\"_parent\"><img src=\"https://colab.research.google.com/assets/colab-badge.svg\" alt=\"Open In Colab\"/></a>"
      ]
    },
    {
      "cell_type": "markdown",
      "source": [
        "** Labwork for Hamiltonian Simulation **\n",
        "\n"
      ],
      "metadata": {
        "id": "I81KSisuM6kE"
      }
    },
    {
      "cell_type": "markdown",
      "source": [
        "# VQE tutorials"
      ],
      "metadata": {
        "id": "8kXq-wBIM9zg"
      }
    },
    {
      "cell_type": "markdown",
      "source": [
        "When running in collab we need to install the libraries we need for the tutorial.  In the VQE tutorial, we will be installing qiskit and pyscf.  These commands generally take about 20 seconds to run."
      ],
      "metadata": {
        "id": "goAfwS6iNcnr"
      }
    },
    {
      "cell_type": "code",
      "source": [
        "!pip install qiskit"
      ],
      "metadata": {
        "id": "bFWukDNCwGvW",
        "collapsed": true,
        "colab": {
          "base_uri": "https://localhost:8080/"
        },
        "outputId": "70c68377-60fd-4715-c0ef-fbb480478ff6"
      },
      "execution_count": 1,
      "outputs": [
        {
          "output_type": "stream",
          "name": "stdout",
          "text": [
            "Looking in indexes: https://pypi.org/simple, https://us-python.pkg.dev/colab-wheels/public/simple/\n",
            "Collecting qiskit\n",
            "  Downloading qiskit-0.37.0.tar.gz (13 kB)\n",
            "Collecting qiskit-terra==0.21.0\n",
            "  Downloading qiskit_terra-0.21.0-cp37-cp37m-manylinux_2_17_x86_64.manylinux2014_x86_64.whl (6.7 MB)\n",
            "\u001b[K     |████████████████████████████████| 6.7 MB 5.0 MB/s \n",
            "\u001b[?25hCollecting qiskit-aer==0.10.4\n",
            "  Downloading qiskit_aer-0.10.4-cp37-cp37m-manylinux_2_12_x86_64.manylinux2010_x86_64.whl (18.0 MB)\n",
            "\u001b[K     |████████████████████████████████| 18.0 MB 359 kB/s \n",
            "\u001b[?25hCollecting qiskit-ibmq-provider==0.19.2\n",
            "  Downloading qiskit_ibmq_provider-0.19.2-py3-none-any.whl (240 kB)\n",
            "\u001b[K     |████████████████████████████████| 240 kB 52.5 MB/s \n",
            "\u001b[?25hRequirement already satisfied: scipy>=1.0 in /usr/local/lib/python3.7/dist-packages (from qiskit-aer==0.10.4->qiskit) (1.7.3)\n",
            "Requirement already satisfied: numpy>=1.16.3 in /usr/local/lib/python3.7/dist-packages (from qiskit-aer==0.10.4->qiskit) (1.21.6)\n",
            "Collecting websockets>=10.0\n",
            "  Downloading websockets-10.3-cp37-cp37m-manylinux_2_5_x86_64.manylinux1_x86_64.manylinux_2_12_x86_64.manylinux2010_x86_64.whl (112 kB)\n",
            "\u001b[K     |████████████████████████████████| 112 kB 69.7 MB/s \n",
            "\u001b[?25hRequirement already satisfied: python-dateutil>=2.8.0 in /usr/local/lib/python3.7/dist-packages (from qiskit-ibmq-provider==0.19.2->qiskit) (2.8.2)\n",
            "Collecting websocket-client>=1.0.1\n",
            "  Downloading websocket_client-1.3.3-py3-none-any.whl (54 kB)\n",
            "\u001b[K     |████████████████████████████████| 54 kB 2.8 MB/s \n",
            "\u001b[?25hRequirement already satisfied: urllib3>=1.21.1 in /usr/local/lib/python3.7/dist-packages (from qiskit-ibmq-provider==0.19.2->qiskit) (1.24.3)\n",
            "Collecting requests-ntlm>=1.1.0\n",
            "  Downloading requests_ntlm-1.1.0-py2.py3-none-any.whl (5.7 kB)\n",
            "Requirement already satisfied: requests>=2.19 in /usr/local/lib/python3.7/dist-packages (from qiskit-ibmq-provider==0.19.2->qiskit) (2.23.0)\n",
            "Requirement already satisfied: psutil>=5 in /usr/local/lib/python3.7/dist-packages (from qiskit-terra==0.21.0->qiskit) (5.4.8)\n",
            "Collecting stevedore>=3.0.0\n",
            "  Downloading stevedore-3.5.0-py3-none-any.whl (49 kB)\n",
            "\u001b[K     |████████████████████████████████| 49 kB 4.2 MB/s \n",
            "\u001b[?25hCollecting ply>=3.10\n",
            "  Downloading ply-3.11-py2.py3-none-any.whl (49 kB)\n",
            "\u001b[K     |████████████████████████████████| 49 kB 6.6 MB/s \n",
            "\u001b[?25hCollecting retworkx>=0.11.0\n",
            "  Downloading retworkx-0.11.0-cp37-cp37m-manylinux_2_5_x86_64.manylinux1_x86_64.manylinux_2_12_x86_64.manylinux2010_x86_64.whl (1.6 MB)\n",
            "\u001b[K     |████████████████████████████████| 1.6 MB 49.5 MB/s \n",
            "\u001b[?25hRequirement already satisfied: dill>=0.3 in /usr/local/lib/python3.7/dist-packages (from qiskit-terra==0.21.0->qiskit) (0.3.5.1)\n",
            "Collecting symengine>=0.9\n",
            "  Downloading symengine-0.9.2-cp37-cp37m-manylinux2010_x86_64.whl (37.5 MB)\n",
            "\u001b[K     |████████████████████████████████| 37.5 MB 1.4 MB/s \n",
            "\u001b[?25hRequirement already satisfied: sympy>=1.3 in /usr/local/lib/python3.7/dist-packages (from qiskit-terra==0.21.0->qiskit) (1.7.1)\n",
            "Collecting tweedledum<2.0,>=1.1\n",
            "  Downloading tweedledum-1.1.1-cp37-cp37m-manylinux_2_12_x86_64.manylinux2010_x86_64.whl (943 kB)\n",
            "\u001b[K     |████████████████████████████████| 943 kB 46.9 MB/s \n",
            "\u001b[?25hCollecting shared-memory38\n",
            "  Downloading shared_memory38-0.1.2-cp37-cp37m-manylinux_2_5_x86_64.manylinux1_x86_64.whl (25 kB)\n",
            "Requirement already satisfied: typing-extensions in /usr/local/lib/python3.7/dist-packages (from qiskit-terra==0.21.0->qiskit) (4.1.1)\n",
            "Requirement already satisfied: six>=1.5 in /usr/local/lib/python3.7/dist-packages (from python-dateutil>=2.8.0->qiskit-ibmq-provider==0.19.2->qiskit) (1.15.0)\n",
            "Requirement already satisfied: idna<3,>=2.5 in /usr/local/lib/python3.7/dist-packages (from requests>=2.19->qiskit-ibmq-provider==0.19.2->qiskit) (2.10)\n",
            "Requirement already satisfied: certifi>=2017.4.17 in /usr/local/lib/python3.7/dist-packages (from requests>=2.19->qiskit-ibmq-provider==0.19.2->qiskit) (2022.6.15)\n",
            "Requirement already satisfied: chardet<4,>=3.0.2 in /usr/local/lib/python3.7/dist-packages (from requests>=2.19->qiskit-ibmq-provider==0.19.2->qiskit) (3.0.4)\n",
            "Collecting ntlm-auth>=1.0.2\n",
            "  Downloading ntlm_auth-1.5.0-py2.py3-none-any.whl (29 kB)\n",
            "Collecting cryptography>=1.3\n",
            "  Downloading cryptography-37.0.4-cp36-abi3-manylinux_2_24_x86_64.whl (4.1 MB)\n",
            "\u001b[K     |████████████████████████████████| 4.1 MB 26.6 MB/s \n",
            "\u001b[?25hRequirement already satisfied: cffi>=1.12 in /usr/local/lib/python3.7/dist-packages (from cryptography>=1.3->requests-ntlm>=1.1.0->qiskit-ibmq-provider==0.19.2->qiskit) (1.15.1)\n",
            "Requirement already satisfied: pycparser in /usr/local/lib/python3.7/dist-packages (from cffi>=1.12->cryptography>=1.3->requests-ntlm>=1.1.0->qiskit-ibmq-provider==0.19.2->qiskit) (2.21)\n",
            "Collecting pbr!=2.1.0,>=2.0.0\n",
            "  Downloading pbr-5.9.0-py2.py3-none-any.whl (112 kB)\n",
            "\u001b[K     |████████████████████████████████| 112 kB 26.4 MB/s \n",
            "\u001b[?25hRequirement already satisfied: importlib-metadata>=1.7.0 in /usr/local/lib/python3.7/dist-packages (from stevedore>=3.0.0->qiskit-terra==0.21.0->qiskit) (4.12.0)\n",
            "Requirement already satisfied: zipp>=0.5 in /usr/local/lib/python3.7/dist-packages (from importlib-metadata>=1.7.0->stevedore>=3.0.0->qiskit-terra==0.21.0->qiskit) (3.8.1)\n",
            "Requirement already satisfied: mpmath>=0.19 in /usr/local/lib/python3.7/dist-packages (from sympy>=1.3->qiskit-terra==0.21.0->qiskit) (1.2.1)\n",
            "Building wheels for collected packages: qiskit\n",
            "  Building wheel for qiskit (setup.py) ... \u001b[?25l\u001b[?25hdone\n",
            "  Created wheel for qiskit: filename=qiskit-0.37.0-py3-none-any.whl size=12028 sha256=63c9d4d27d743ff111ec8510a031cfa532b805bded5f9a899cdf921c6a9be506\n",
            "  Stored in directory: /root/.cache/pip/wheels/ed/f9/fa/3ed81abb79590bf4c0432e7816bcdf3f0dbd1ba5aeb3eeddf7\n",
            "Successfully built qiskit\n",
            "Installing collected packages: pbr, tweedledum, symengine, stevedore, shared-memory38, retworkx, ply, ntlm-auth, cryptography, websockets, websocket-client, requests-ntlm, qiskit-terra, qiskit-ibmq-provider, qiskit-aer, qiskit\n",
            "Successfully installed cryptography-37.0.4 ntlm-auth-1.5.0 pbr-5.9.0 ply-3.11 qiskit-0.37.0 qiskit-aer-0.10.4 qiskit-ibmq-provider-0.19.2 qiskit-terra-0.21.0 requests-ntlm-1.1.0 retworkx-0.11.0 shared-memory38-0.1.2 stevedore-3.5.0 symengine-0.9.2 tweedledum-1.1.1 websocket-client-1.3.3 websockets-10.3\n"
          ]
        }
      ]
    },
    {
      "cell_type": "code",
      "source": [
        "!pip install pyscf"
      ],
      "metadata": {
        "id": "YR2BV85svwdb",
        "colab": {
          "base_uri": "https://localhost:8080/"
        },
        "outputId": "ada6b749-3398-40fe-c1b2-1e0712408386"
      },
      "execution_count": 2,
      "outputs": [
        {
          "output_type": "stream",
          "name": "stdout",
          "text": [
            "Looking in indexes: https://pypi.org/simple, https://us-python.pkg.dev/colab-wheels/public/simple/\n",
            "Collecting pyscf\n",
            "  Downloading pyscf-2.0.1-cp37-cp37m-manylinux1_x86_64.whl (37.5 MB)\n",
            "\u001b[K     |████████████████████████████████| 37.5 MB 1.3 MB/s \n",
            "\u001b[?25hRequirement already satisfied: scipy!=1.5.0,!=1.5.1 in /usr/local/lib/python3.7/dist-packages (from pyscf) (1.7.3)\n",
            "Requirement already satisfied: numpy!=1.16,!=1.17,>=1.13 in /usr/local/lib/python3.7/dist-packages (from pyscf) (1.21.6)\n",
            "Requirement already satisfied: h5py>=2.7 in /usr/local/lib/python3.7/dist-packages (from pyscf) (3.1.0)\n",
            "Requirement already satisfied: cached-property in /usr/local/lib/python3.7/dist-packages (from h5py>=2.7->pyscf) (1.5.2)\n",
            "Installing collected packages: pyscf\n",
            "Successfully installed pyscf-2.0.1\n"
          ]
        }
      ]
    },
    {
      "cell_type": "code",
      "execution_count": 3,
      "metadata": {
        "id": "4gx7-iKSvZP1"
      },
      "outputs": [],
      "source": [
        "from qiskit.opflow import X, Y, Z\n",
        "from qiskit.circuit.library import EfficientSU2\n",
        "from qiskit.algorithms.optimizers import SPSA\n",
        "from qiskit.providers.basicaer import StatevectorSimulatorPy\n",
        "from qiskit.algorithms import VQE, NumPyMinimumEigensolver"
      ]
    },
    {
      "cell_type": "code",
      "source": [
        "%matplotlib inline\n",
        "import numpy as np\n",
        "import matplotlib.pyplot as plt"
      ],
      "metadata": {
        "id": "gkSXwM7epCHZ"
      },
      "execution_count": 4,
      "outputs": []
    },
    {
      "cell_type": "markdown",
      "source": [
        "In this first example, we will be testing a hardware efficient ansatz for a toy hamiltonian on 3 qubits.   Below we first set a few parameters that will define our simulation, which includes the number of optimization runs and the number of qubits for our test Hamiltonian.  \n",
        "\n",
        "We create a simple Hamiltonian $H = Z_0 Z_1 Y_2 + X_0 Y_1 Z_2$\n",
        "\n",
        "In the following steps we will define a circuit ansatz, the Hamiltonian of interest, and an optimizer, which will all eventually be passed to the Qiskit VQE algorithm."
      ],
      "metadata": {
        "id": "XIpmLG7NOrWX"
      }
    },
    {
      "cell_type": "code",
      "source": [
        "num_runs = 20\n",
        "num_qubits = 3\n",
        "hamiltonian = (Z ^ Z ^ Y) - (X ^ Y ^ Z)"
      ],
      "metadata": {
        "id": "3C1chAb4wYIk"
      },
      "execution_count": 7,
      "outputs": []
    },
    {
      "cell_type": "markdown",
      "source": [
        "Using qiskit routines, we can take the Hamiltonian above and calculate the lowest eigenvalue.  This is done purely in terms of matrices in these steps and is done without approximation.  The input to the following functions on requires us to pase the hamiltonian ot the numpy eigen solver. "
      ],
      "metadata": {
        "id": "KJzMT5F_PqGk"
      }
    },
    {
      "cell_type": "code",
      "source": [
        "exact_solver = NumPyMinimumEigensolver()\n",
        "exact_groundstate_energy = exact_solver.compute_minimum_eigenvalue(hamiltonian).eigenvalue.real\n",
        "print(f'Exact groundstate eigenvalue: {exact_groundstate_energy:.4f}')"
      ],
      "metadata": {
        "id": "I5Zqea87odR1",
        "colab": {
          "base_uri": "https://localhost:8080/"
        },
        "outputId": "badbde52-b33a-439d-d3ac-1c97129d1a70"
      },
      "execution_count": 8,
      "outputs": [
        {
          "output_type": "stream",
          "name": "stdout",
          "text": [
            "Exact groundstate eigenvalue: -1.4142\n"
          ]
        }
      ]
    },
    {
      "cell_type": "markdown",
      "source": [
        "At this step we define the ansatz.  For our toy Hamiltonian we will use a hardware efficient ansatz.  With such an ansatz gates are layered with they hope that a wide range of states may be obtained.  A single layer of a variational form specifies a certain pattern of single qubit rotations and CX gates.  The depth determines how many variational parameters we will have.  The more variational parameters, the longer the circuit but also the more accuracte the circuit.  In the following fuction, EfficientSU2, we have to specify the number of qubits, the number of layers, and the geometry of the underlying qubits for determining which edges the 2 qubit gates are connected."
      ],
      "metadata": {
        "id": "RpS3WQNDQrtT"
      }
    },
    {
      "cell_type": "code",
      "source": [
        "# VQE ansatz definition\n",
        "ansatz = EfficientSU2(num_qubits,reps=4, entanglement='linear')#G before it was a 2"
      ],
      "metadata": {
        "id": "rDI1Go2Wom4A"
      },
      "execution_count": 20,
      "outputs": []
    },
    {
      "cell_type": "markdown",
      "source": [
        "We will now define the optimizer to SPSA.   We also define random starting parameters for the circuit ansatz here.  We will be investigating different starting points for the circuit ansatz as one of the exercises.  Note that we are starting maxiter=50, which can be adjusted later to allow the optimizer to perform more optimization steps if needed."
      ],
      "metadata": {
        "id": "2Nf1lAx-Rtoe"
      }
    },
    {
      "cell_type": "code",
      "source": [
        "optimizer = SPSA(maxiter=100)#G before it was 50\n",
        "initial_point = np.random.random(ansatz.num_parameters)"
      ],
      "metadata": {
        "id": "HdnkA1NFotMM"
      },
      "execution_count": 37,
      "outputs": []
    },
    {
      "cell_type": "markdown",
      "source": [
        "Now we pass in our setup to the VQE algorithm in Qiskit."
      ],
      "metadata": {
        "id": "tNJxL2whTRba"
      }
    },
    {
      "cell_type": "code",
      "source": [
        "vqe = VQE(ansatz=ansatz,\n",
        "          optimizer=optimizer,\n",
        "          initial_point=initial_point,\n",
        "          # quantum_instance=QasmSimulatorPy())\n",
        "          quantum_instance=StatevectorSimulatorPy())"
      ],
      "metadata": {
        "id": "2V-XZ2oto1Il"
      },
      "execution_count": 38,
      "outputs": []
    },
    {
      "cell_type": "markdown",
      "source": [
        "VQE involves an optimization step, which is the next part of the tutorial.  Optimization isn't always straightforward, and even when optimizing on classical hardware without noise, local minimum are often a concern.   In the following we run our VQE optimization multiple times, and print out the result.  "
      ],
      "metadata": {
        "id": "mG97cchaVZrW"
      }
    },
    {
      "cell_type": "code",
      "source": [
        "    # Iterate VQE calculation to find a good optimized circuit\n",
        "    optimal_vqe_result = vqe.compute_minimum_eigenvalue(hamiltonian)\n",
        "    enevals = [optimal_vqe_result.eigenvalue.real]\n",
        "    diffvals = [optimal_vqe_result.eigenvalue.real - exact_groundstate_energy]\n",
        "    print('Starting VQE runs...')\n",
        "    for ii in range(num_runs):\n",
        "\n",
        "        # Generate a new initial point for the VQE\n",
        "        new_initial_point = np.random.random(ansatz.num_parameters)\n",
        "        vqe.initial_point = new_initial_point\n",
        "\n",
        "        # Calculate the minimum eigenvalue\n",
        "        current_vqe_result = vqe.compute_minimum_eigenvalue(hamiltonian)\n",
        "             \n",
        "        print(f'Finished VQE run {ii + 1}/{num_runs}.', end=\"\\n\")\n",
        "  \n",
        "        current_diff = np.abs(current_vqe_result.eigenvalue.real - exact_groundstate_energy)\n",
        "        optimal_diff = np.abs(optimal_vqe_result.eigenvalue.real - exact_groundstate_energy)\n",
        "        \n",
        "        enevals.append(current_vqe_result.eigenvalue.real)\n",
        "        diffvals.append(current_diff)\n",
        "\n",
        "        print('current_ene',current_vqe_result.eigenvalue.real)\n",
        "        print('current_diff',current_diff, '\\n')\n",
        "\n",
        "        if current_diff < optimal_diff:\n",
        "            optimal_vqe_result = current_vqe_result\n"
      ],
      "metadata": {
        "id": "wFTH3r6YrK0H",
        "colab": {
          "base_uri": "https://localhost:8080/"
        },
        "outputId": "6cd28354-6789-4b6f-c568-eebde27c28c5"
      },
      "execution_count": 39,
      "outputs": [
        {
          "output_type": "stream",
          "name": "stdout",
          "text": [
            "Starting VQE runs...\n",
            "Finished VQE run 1/20.\n",
            "current_ene -8.701462103351178\n",
            "current_diff 0.15629172223191468 \n",
            "\n",
            "Finished VQE run 2/20.\n",
            "current_ene -8.853995116495247\n",
            "current_diff 0.003758709087845702 \n",
            "\n",
            "Finished VQE run 3/20.\n",
            "current_ene -8.751323747754995\n",
            "current_diff 0.10643007782809732 \n",
            "\n",
            "Finished VQE run 4/20.\n",
            "current_ene -8.708766127447774\n",
            "current_diff 0.14898769813531842 \n",
            "\n",
            "Finished VQE run 5/20.\n",
            "current_ene -8.710472210168106\n",
            "current_diff 0.14728161541498608 \n",
            "\n",
            "Finished VQE run 6/20.\n",
            "current_ene -8.853746685154956\n",
            "current_diff 0.004007140428136324 \n",
            "\n",
            "Finished VQE run 7/20.\n",
            "current_ene -8.851023552597205\n",
            "current_diff 0.006730272985887353 \n",
            "\n",
            "Finished VQE run 8/20.\n",
            "current_ene -8.852480448339202\n",
            "current_diff 0.005273377243890209 \n",
            "\n",
            "Finished VQE run 9/20.\n",
            "current_ene -8.853281688657455\n",
            "current_diff 0.00447213692563686 \n",
            "\n",
            "Finished VQE run 10/20.\n",
            "current_ene -8.709463423709051\n",
            "current_diff 0.14829040187404097 \n",
            "\n",
            "Finished VQE run 11/20.\n",
            "current_ene -8.854796588610238\n",
            "current_diff 0.002957236972854105 \n",
            "\n",
            "Finished VQE run 12/20.\n",
            "current_ene -8.856921715926736\n",
            "current_diff 0.0008321096563559394 \n",
            "\n",
            "Finished VQE run 13/20.\n",
            "current_ene -8.710541777775683\n",
            "current_diff 0.14721204780740926 \n",
            "\n",
            "Finished VQE run 14/20.\n",
            "current_ene -8.707823095013197\n",
            "current_diff 0.1499307305698956 \n",
            "\n",
            "Finished VQE run 15/20.\n",
            "current_ene -8.831732854854108\n",
            "current_diff 0.02602097072898424 \n",
            "\n",
            "Finished VQE run 16/20.\n",
            "current_ene -8.717894157776325\n",
            "current_diff 0.13985966780676762 \n",
            "\n",
            "Finished VQE run 17/20.\n",
            "current_ene -8.83433088541272\n",
            "current_diff 0.02342294017037183 \n",
            "\n",
            "Finished VQE run 18/20.\n",
            "current_ene -8.856565783215661\n",
            "current_diff 0.0011880423674313079 \n",
            "\n",
            "Finished VQE run 19/20.\n",
            "current_ene -8.798113122930882\n",
            "current_diff 0.05964070265221011 \n",
            "\n",
            "Finished VQE run 20/20.\n",
            "current_ene -8.854233366364483\n",
            "current_diff 0.0035204592186097727 \n",
            "\n"
          ]
        }
      ]
    },
    {
      "cell_type": "markdown",
      "source": [
        "Lets plot the individual optimizations and see what sort of variation we get for the energies."
      ],
      "metadata": {
        "id": "dmM_6AZfLwIe"
      }
    },
    {
      "cell_type": "code",
      "source": [
        "plt.figure(figsize=(10,8))\n",
        "plt.plot(enevals, label='VQE energies',marker='.',linestyle='None',markersize=10.0)\n",
        "plt.axhline(exact_groundstate_energy,color='r')\n",
        "plt.xlabel('Optimization', fontsize=15)\n",
        "plt.ylabel('Energy', fontsize=15)\n",
        "plt.legend(loc='best', fontsize=15)\n",
        "plt.show()"
      ],
      "metadata": {
        "id": "2B7Y7GT2JXpK",
        "colab": {
          "base_uri": "https://localhost:8080/",
          "height": 502
        },
        "outputId": "1b0af860-1117-4051-9d88-0f74ae8f312c"
      },
      "execution_count": 40,
      "outputs": [
        {
          "output_type": "display_data",
          "data": {
            "text/plain": [
              "<Figure size 720x576 with 1 Axes>"
            ],
            "image/png": "[encoded data removed]"
          },
          "metadata": {
            "needs_background": "light"
          }
        }
      ]
    },
    {
      "cell_type": "markdown",
      "source": [
        "You are likely to see a descent amount of scatter in the data. But hopefully you also see a lot of optimizations near the ground state energy.  Lets sort our data and replot."
      ],
      "metadata": {
        "id": "LWeS8gQXL9Rt"
      }
    },
    {
      "cell_type": "code",
      "source": [
        "enevals.sort()\n",
        "plt.figure(figsize=(10,8))\n",
        "plt.plot(enevals, label='VQE energies',marker='.',linestyle='None',markersize=10.0)\n",
        "plt.axhline(exact_groundstate_energy,color='r')\n",
        "plt.xlabel('Optimization', fontsize=15)\n",
        "plt.ylabel('Energy', fontsize=15)\n",
        "plt.legend(loc='best', fontsize=15)\n",
        "plt.show()"
      ],
      "metadata": {
        "id": "IWTTWTciMtSL",
        "colab": {
          "base_uri": "https://localhost:8080/",
          "height": 502
        },
        "outputId": "6cda90ec-f78a-46c1-bc6f-a8f4a3a718e0"
      },
      "execution_count": 41,
      "outputs": [
        {
          "output_type": "display_data",
          "data": {
            "text/plain": [
              "<Figure size 720x576 with 1 Axes>"
            ],
            "image/png": "[encoded data removed]"
          },
          "metadata": {
            "needs_background": "light"
          }
        }
      ]
    },
    {
      "cell_type": "markdown",
      "source": [
        "For a typical run, you are likely to see a lot of data close to the exact answer, but  also some amount of values that are less converged. \n",
        "\n",
        "It is important to consider why this is happening.  We have already mentioned there might be local minima, but for this simple example, that is less likely to be the issue.  More likley we are stopping the optimization before it finishes (with the maxiter variable set to 50).   As an exercise one may consider increasing this value and reploting the distribution of energies.  Do all the values converge to near the optimal energy with increasing maxiter?   \n",
        "\n",
        "We note here that it is important to make sure an optimization has converged before stopping a run. There are lots of techniques described in the literature that describe this further.  However, for more complicated examples there is no guarantee that one will find the global minimia."
      ],
      "metadata": {
        "id": "SZIEEhOAM8Dt"
      }
    },
    {
      "cell_type": "markdown",
      "source": [
        "Exercise:   Rerun the previous examples with varying number of layers in the hardware efficient ansatz.   For example, try with 4 layers with 20 optimization runs.   Plot the average and best results as a function of layers.  Do you get better results with increased number of layers?   In general we expect that more complex circuits will lead to better results, but there is always the possibility we will need to more resources to optimize such an ansatz.  The situation is even more difficult when one includes noise into the optmization."
      ],
      "metadata": {
        "id": "lRmutYCMXRGz"
      }
    },
    {
      "cell_type": "markdown",
      "source": [
        "### VQE Molecular Example"
      ],
      "metadata": {
        "id": "3MM5vsb3v-tC"
      }
    },
    {
      "cell_type": "markdown",
      "source": [
        "When running VQE for molecular systems, we need to install the qiskit nature library. This should take under 10 seconds to run."
      ],
      "metadata": {
        "id": "BZxGJucjYzUZ"
      }
    },
    {
      "cell_type": "code",
      "source": [
        "!pip install qiskit_nature"
      ],
      "metadata": {
        "id": "5jPR20pPr57p",
        "colab": {
          "base_uri": "https://localhost:8080/"
        },
        "outputId": "62a2f3de-907b-45ef-84b8-2b112504f46b"
      },
      "execution_count": 5,
      "outputs": [
        {
          "output_type": "stream",
          "name": "stdout",
          "text": [
            "Looking in indexes: https://pypi.org/simple, https://us-python.pkg.dev/colab-wheels/public/simple/\n",
            "Collecting qiskit_nature\n",
            "  Downloading qiskit_nature-0.4.3-py3-none-any.whl (2.0 MB)\n",
            "\u001b[K     |████████████████████████████████| 2.0 MB 4.9 MB/s \n",
            "\u001b[?25hRequirement already satisfied: scikit-learn>=0.20.0 in /usr/local/lib/python3.7/dist-packages (from qiskit_nature) (1.0.2)\n",
            "Requirement already satisfied: scipy>=1.4 in /usr/local/lib/python3.7/dist-packages (from qiskit_nature) (1.7.3)\n",
            "Requirement already satisfied: retworkx>=0.10.1 in /usr/local/lib/python3.7/dist-packages (from qiskit_nature) (0.11.0)\n",
            "Requirement already satisfied: qiskit-terra>=0.21.0 in /usr/local/lib/python3.7/dist-packages (from qiskit_nature) (0.21.0)\n",
            "Requirement already satisfied: h5py in /usr/local/lib/python3.7/dist-packages (from qiskit_nature) (3.1.0)\n",
            "Requirement already satisfied: typing-extensions in /usr/local/lib/python3.7/dist-packages (from qiskit_nature) (4.1.1)\n",
            "Requirement already satisfied: psutil>=5 in /usr/local/lib/python3.7/dist-packages (from qiskit_nature) (5.4.8)\n",
            "Requirement already satisfied: setuptools>=40.1.0 in /usr/local/lib/python3.7/dist-packages (from qiskit_nature) (57.4.0)\n",
            "Requirement already satisfied: numpy>=1.17 in /usr/local/lib/python3.7/dist-packages (from qiskit_nature) (1.21.6)\n",
            "Requirement already satisfied: dill>=0.3 in /usr/local/lib/python3.7/dist-packages (from qiskit-terra>=0.21.0->qiskit_nature) (0.3.5.1)\n",
            "Requirement already satisfied: shared-memory38 in /usr/local/lib/python3.7/dist-packages (from qiskit-terra>=0.21.0->qiskit_nature) (0.1.2)\n",
            "Requirement already satisfied: python-dateutil>=2.8.0 in /usr/local/lib/python3.7/dist-packages (from qiskit-terra>=0.21.0->qiskit_nature) (2.8.2)\n",
            "Requirement already satisfied: ply>=3.10 in /usr/local/lib/python3.7/dist-packages (from qiskit-terra>=0.21.0->qiskit_nature) (3.11)\n",
            "Requirement already satisfied: stevedore>=3.0.0 in /usr/local/lib/python3.7/dist-packages (from qiskit-terra>=0.21.0->qiskit_nature) (3.5.0)\n",
            "Requirement already satisfied: sympy>=1.3 in /usr/local/lib/python3.7/dist-packages (from qiskit-terra>=0.21.0->qiskit_nature) (1.7.1)\n",
            "Requirement already satisfied: symengine>=0.9 in /usr/local/lib/python3.7/dist-packages (from qiskit-terra>=0.21.0->qiskit_nature) (0.9.2)\n",
            "Requirement already satisfied: tweedledum<2.0,>=1.1 in /usr/local/lib/python3.7/dist-packages (from qiskit-terra>=0.21.0->qiskit_nature) (1.1.1)\n",
            "Requirement already satisfied: six>=1.5 in /usr/local/lib/python3.7/dist-packages (from python-dateutil>=2.8.0->qiskit-terra>=0.21.0->qiskit_nature) (1.15.0)\n",
            "Requirement already satisfied: threadpoolctl>=2.0.0 in /usr/local/lib/python3.7/dist-packages (from scikit-learn>=0.20.0->qiskit_nature) (3.1.0)\n",
            "Requirement already satisfied: joblib>=0.11 in /usr/local/lib/python3.7/dist-packages (from scikit-learn>=0.20.0->qiskit_nature) (1.1.0)\n",
            "Requirement already satisfied: importlib-metadata>=1.7.0 in /usr/local/lib/python3.7/dist-packages (from stevedore>=3.0.0->qiskit-terra>=0.21.0->qiskit_nature) (4.12.0)\n",
            "Requirement already satisfied: pbr!=2.1.0,>=2.0.0 in /usr/local/lib/python3.7/dist-packages (from stevedore>=3.0.0->qiskit-terra>=0.21.0->qiskit_nature) (5.9.0)\n",
            "Requirement already satisfied: zipp>=0.5 in /usr/local/lib/python3.7/dist-packages (from importlib-metadata>=1.7.0->stevedore>=3.0.0->qiskit-terra>=0.21.0->qiskit_nature) (3.8.1)\n",
            "Requirement already satisfied: mpmath>=0.19 in /usr/local/lib/python3.7/dist-packages (from sympy>=1.3->qiskit-terra>=0.21.0->qiskit_nature) (1.2.1)\n",
            "Requirement already satisfied: cached-property in /usr/local/lib/python3.7/dist-packages (from h5py->qiskit_nature) (1.5.2)\n",
            "Installing collected packages: qiskit-nature\n",
            "Successfully installed qiskit-nature-0.4.3\n"
          ]
        }
      ]
    },
    {
      "cell_type": "markdown",
      "source": [
        "There are a lot of different utilities in Qiskit nature we will use.  We describe many of them as we go through the tutorial. "
      ],
      "metadata": {
        "id": "qZ8viQe_WrSH"
      }
    },
    {
      "cell_type": "code",
      "source": [
        "from qiskit_nature.drivers import Molecule\n",
        "from qiskit_nature.drivers.second_quantization import (\n",
        "    ElectronicStructureDriverType,\n",
        "    ElectronicStructureMoleculeDriver,\n",
        ")\n",
        "from qiskit_nature.problems.second_quantization.electronic import ElectronicStructureProblem\n",
        "from qiskit_nature.converters.second_quantization import QubitConverter\n",
        "from qiskit_nature.mappers.second_quantization import ParityMapper, JordanWignerMapper\n",
        "from qiskit_nature.properties.second_quantization.electronic import ParticleNumber\n",
        "from qiskit_nature.transformers.second_quantization.electronic import ActiveSpaceTransformer\n",
        "\n",
        "from qiskit_nature.algorithms import VQEUCCFactory\n",
        "from qiskit_nature.circuit.library import UCCSD, HartreeFock\n",
        "from qiskit_nature.algorithms.ground_state_solvers import GroundStateEigensolver\n",
        "from qiskit.algorithms import NumPyMinimumEigensolver, VQE\n",
        "from qiskit.circuit.library import EfficientSU2, ExcitationPreserving\n",
        "\n",
        "\n",
        "from qiskit.providers.basicaer import StatevectorSimulatorPy  # local simulator\n",
        "from qiskit.providers.aer import StatevectorSimulator"
      ],
      "metadata": {
        "id": "8MYu4Z1Tx-cq"
      },
      "execution_count": 6,
      "outputs": []
    },
    {
      "cell_type": "markdown",
      "source": [
        "When running a molecular system, in general one starts off with the geometry, charge, and spin of the molecular system of interest.   We are going to start by looking at Lithum Hydride, near equilibrium, neutral charge,  in a spin singlet configuration.    The following two lines are used to specify this.  Note that the center of origin for the geomtry of the molecule is arbitrary, and in this case we set the Li atom at the origin, and displace the Hydrogen atom along the z-axis."
      ],
      "metadata": {
        "id": "wVWFSdg_ZOsm"
      }
    },
    {
      "cell_type": "code",
      "source": [
        "bond_distance = 1.5949  # in Angstrom"
      ],
      "metadata": {
        "id": "sS4lx4JQyRTr"
      },
      "execution_count": 26,
      "outputs": []
    },
    {
      "cell_type": "code",
      "source": [
        "molecule = Molecule(\n",
        "    geometry=[[\"Li\", [0.0, 0.0, 0.0]], [\"H\", [0.0, 0.0, bond_distance]]], charge=0, multiplicity=1\n",
        ")\n"
      ],
      "metadata": {
        "id": "nNC7iLtPyubH"
      },
      "execution_count": 28,
      "outputs": []
    },
    {
      "cell_type": "markdown",
      "source": [
        "We are now prepared to call Pyscf.  Pyscf is an external electronic structure library that can be called by Qiskit.  Other libraries are also compatible with Qiskit.\n",
        "\n",
        "To run quantum chemistry instances on quantum computers, in most cases it is necessary to run a mean field simulation to generate the second quantized operators over a set of orthonormal orbitals.   The following two lines uses a Qiskit wrapper to make this call to pyscf and import all the information necessary to create the Hamiltonian.   \n",
        "\n",
        "Note that one of the inputs here is 'basis'.  The input used here is sto3g, which is a minimal basis that creates a toy model of the LiH molecule.  Other more realistic basis sets that one might want to study include the Dunning basis sets.  However, the sto3g basis is a 12 qubit example, and the Dunning basis sets are in general much bigger, and not suitable to run in this tutorial."
      ],
      "metadata": {
        "id": "Bc4AC2uGZvwX"
      }
    },
    {
      "cell_type": "code",
      "source": [
        "driver = ElectronicStructureMoleculeDriver(\n",
        "    molecule, basis=\"sto3g\", driver_type=ElectronicStructureDriverType.AUTO\n",
        ")"
      ],
      "metadata": {
        "id": "svOeLTiJy1rN"
      },
      "execution_count": 29,
      "outputs": []
    },
    {
      "cell_type": "code",
      "source": [
        "properties = driver.run()"
      ],
      "metadata": {
        "id": "n18k9dHjzFTm"
      },
      "execution_count": 30,
      "outputs": []
    },
    {
      "cell_type": "markdown",
      "source": [
        "The following line prints out information that was returned by Pyscf.  Much of it is numerical data that can be ignored by the user.  However, there is a lot of information printed here that can be useful to better understand what is happening, and for debugging purposes when things go wrong.   Scroll through the properties  data and identify information related to the number of spin orbitals and number of particles. "
      ],
      "metadata": {
        "id": "cms1Xn9Bcswc"
      }
    },
    {
      "cell_type": "code",
      "source": [
        "print(properties)"
      ],
      "metadata": {
        "id": "3rgRcpYx_XoB",
        "colab": {
          "base_uri": "https://localhost:8080/"
        },
        "outputId": "61340aa7-fa0b-459b-be5f-679d580e5ff7"
      },
      "execution_count": 31,
      "outputs": [
        {
          "output_type": "stream",
          "name": "stdout",
          "text": [
            "ElectronicStructureDriverResult:\n",
            "\tDriverMetadata:\n",
            "\t\tProgram: PYSCF\n",
            "\t\tVersion: 2.0.1\n",
            "\t\tConfig:\n",
            "\t\t\tatom=Li 0.0 0.0 0.0;H 0.0 0.0 1.5949\n",
            "\t\t\tunit=Angstrom\n",
            "\t\t\tcharge=0\n",
            "\t\t\tspin=0\n",
            "\t\t\tbasis=sto3g\n",
            "\t\t\tmethod=rhf\n",
            "\t\t\tconv_tol=1e-09\n",
            "\t\t\tmax_cycle=50\n",
            "\t\t\tinit_guess=minao\n",
            "\t\t\tmax_memory=4000\n",
            "\t\t\t\n",
            "\tElectronicBasisTransform:\n",
            "\t\tInitial basis: atomic\n",
            "\t\tFinal basis: molecular\n",
            "\t\tAlpha coefficients:\n",
            "\t\t[0, 0] = 0.9912453915551007\n",
            "\t\t[0, 1] = -0.16742351757847967\n",
            "\t\t[0, 2] = -0.20997751655907093\n",
            "\t\t[0, 3] = -8.545410322020262e-17\n",
            "\t\t[0, 4] = 3.320425070688112e-18\n",
            "\t\t[0, 5] = 0.09283828644434482\n",
            "\t\t[1, 0] = 0.03267810252875784\n",
            "\t\t[1, 1] = 0.4547932532194292\n",
            "\t\t[1, 2] = 0.7996171545939431\n",
            "\t\t[1, 3] = 3.548389630028498e-16\n",
            "\t\t[1, 4] = -1.3645248092246264e-17\n",
            "\t\t[1, 5] = -0.7047248588928104\n",
            "\t\t[2, 0] = 2.1677032939962187e-18\n",
            "\t\t[2, 1] = -2.8632142339546784e-16\n",
            "\t\t[2, 2] = 1.1541031939236665e-16\n",
            "\t\t[2, 3] = 0.3302776584256897\n",
            "\t\t[2, 4] = 0.9438838214234015\n",
            "\t\t[2, 5] = 1.541223571655274e-16\n",
            "\t\t[3, 0] = -1.2183440690616682e-19\n",
            "\t\t[3, 1] = 8.718189812109553e-17\n",
            "\t\t[3, 2] = -3.9588706997159844e-16\n",
            "\t\t[3, 3] = 0.9438838214234015\n",
            "\t\t[3, 4] = -0.33027765842568985\n",
            "\t\t[3, 5] = 3.3644187734970726e-16\n",
            "\t\t[4, 0] = -0.006347088887474097\n",
            "\t\t[4, 1] = 0.3461999106380889\n",
            "\t\t[4, 2] = -0.612138272177651\n",
            "\t\t[4, 3] = -2.2414268241118776e-16\n",
            "\t\t[4, 4] = 3.345234250417521e-16\n",
            "\t\t[4, 5] = -0.9810008296321062\n",
            "\t\t[5, 0] = 0.004470288931109394\n",
            "\t\t[5, 1] = 0.5487805706524689\n",
            "\t\t[5, 2] = -0.13979337347872003\n",
            "\t\t[5, 3] = -1.6164963428316426e-16\n",
            "\t\t[5, 4] = -4.469574145319192e-19\n",
            "\t\t[5, 5] = 1.1873743841228237\n",
            "\tParticleNumber:\n",
            "\t\t12 SOs\n",
            "\t\t2 alpha electrons\n",
            "\t\t\torbital occupation: [1. 1. 0. 0. 0. 0.]\n",
            "\t\t2 beta electrons\n",
            "\t\t\torbital occupation: [1. 1. 0. 0. 0. 0.]\n",
            "\tElectronicEnergy\n",
            "\t\t(AO) 1-Body Terms:\n",
            "\t\t\tAlpha\n",
            "\t\t\t<(6, 6) matrix with 18 non-zero entries>\n",
            "\t\t\t[0, 0] = -4.737888298207023\n",
            "\t\t\t[0, 1] = -1.0645838281784528\n",
            "\t\t\t[0, 4] = -0.01620164573104503\n",
            "\t\t\t[0, 5] = -0.30557183747141736\n",
            "\t\t\t[1, 0] = -1.0645838281784528\n",
            "\t\t\t... skipping 13 entries\n",
            "\t\t\tBeta\n",
            "\t\t\tSame values as the corresponding primary-spin data.\n",
            "\t\t(AO) 2-Body Terms:\n",
            "\t\t\tAlpha-Alpha\n",
            "\t\t\t<(6, 6, 6, 6) matrix with 368 non-zero entries>\n",
            "\t\t\t[0, 0, 0, 0] = 1.6803951695337487\n",
            "\t\t\t[0, 0, 0, 1] = 0.26542036460780716\n",
            "\t\t\t[0, 0, 0, 5] = 0.07201763374411096\n",
            "\t\t\t[0, 0, 1, 0] = 0.26542036460780705\n",
            "\t\t\t[0, 0, 1, 1] = 0.3977268610897301\n",
            "\t\t\t... skipping 363 entries\n",
            "\t\t\tBeta-Alpha\n",
            "\t\t\tSame values as the corresponding primary-spin data.\n",
            "\t\t\tBeta-Beta\n",
            "\t\t\tSame values as the corresponding primary-spin data.\n",
            "\t\t\tAlpha-Beta\n",
            "\t\t\tSame values as the corresponding primary-spin data.\n",
            "\t\t(MO) 1-Body Terms:\n",
            "\t\t\tAlpha\n",
            "\t\t\t<(6, 6) matrix with 18 non-zero entries>\n",
            "\t\t\t[0, 0] = -4.7284419798715005\n",
            "\t\t\t[0, 1] = 0.10568647604354926\n",
            "\t\t\t[0, 2] = 0.16702128382099904\n",
            "\t\t\t[0, 5] = -0.03427927202422178\n",
            "\t\t\t[1, 0] = 0.10568647604354935\n",
            "\t\t\t... skipping 13 entries\n",
            "\t\t\tBeta\n",
            "\t\t\tSame values as the corresponding primary-spin data.\n",
            "\t\t(MO) 2-Body Terms:\n",
            "\t\t\tAlpha-Alpha\n",
            "\t\t\t<(6, 6, 6, 6) matrix with 456 non-zero entries>\n",
            "\t\t\t[0, 0, 0, 0] = 1.6585512055433176\n",
            "\t\t\t[0, 0, 0, 1] = -0.11194578311627247\n",
            "\t\t\t[0, 0, 0, 2] = -0.13853106699175247\n",
            "\t\t\t[0, 0, 0, 5] = 0.05262993904716017\n",
            "\t\t\t[0, 0, 1, 0] = -0.11194578311627247\n",
            "\t\t\t... skipping 451 entries\n",
            "\t\t\tBeta-Alpha\n",
            "\t\t\tSame values as the corresponding primary-spin data.\n",
            "\t\t\tBeta-Beta\n",
            "\t\t\tSame values as the corresponding primary-spin data.\n",
            "\t\t\tAlpha-Beta\n",
            "\t\t\tSame values as the corresponding primary-spin data.\n",
            "\tElectronicDipoleMoment:\n",
            "\t\tDipoleMomentX\n",
            "\t\t\t(AO) 1-Body Terms:\n",
            "\t\t\t\tAlpha\n",
            "\t\t\t\t<(6, 6) matrix with 6 non-zero entries>\n",
            "\t\t\t\t[0, 2] = 0.14723997517578355\n",
            "\t\t\t\t[1, 2] = 1.8032983195284729\n",
            "\t\t\t\t[2, 0] = 0.14723997517578355\n",
            "\t\t\t\t[2, 1] = 1.8032983195284729\n",
            "\t\t\t\t[2, 5] = 0.32886290193967327\n",
            "\t\t\t\t... skipping 1 entries\n",
            "\t\t\t\tBeta\n",
            "\t\t\t\tSame values as the corresponding primary-spin data.\n",
            "\t\t\t(MO) 1-Body Terms:\n",
            "\t\t\t\tAlpha\n",
            "\t\t\t\t<(6, 6) matrix with 16 non-zero entries>\n",
            "\t\t\t\t[0, 3] = 0.06815260537269568\n",
            "\t\t\t\t[0, 4] = 0.19476988514987448\n",
            "\t\t\t\t[1, 3] = 0.32233449582904455\n",
            "\t\t\t\t[1, 4] = 0.9211834586388092\n",
            "\t\t\t\t[2, 3] = 0.4508482696215876\n",
            "\t\t\t\t... skipping 11 entries\n",
            "\t\t\t\tBeta\n",
            "\t\t\t\tSame values as the corresponding primary-spin data.\n",
            "\t\tDipoleMomentY\n",
            "\t\t\t(AO) 1-Body Terms:\n",
            "\t\t\t\tAlpha\n",
            "\t\t\t\t<(6, 6) matrix with 6 non-zero entries>\n",
            "\t\t\t\t[0, 3] = 0.14723997517578355\n",
            "\t\t\t\t[1, 3] = 1.8032983195284729\n",
            "\t\t\t\t[3, 0] = 0.14723997517578355\n",
            "\t\t\t\t[3, 1] = 1.8032983195284729\n",
            "\t\t\t\t[3, 5] = 0.32886290193967327\n",
            "\t\t\t\t... skipping 1 entries\n",
            "\t\t\t\tBeta\n",
            "\t\t\t\tSame values as the corresponding primary-spin data.\n",
            "\t\t\t(MO) 1-Body Terms:\n",
            "\t\t\t\tAlpha\n",
            "\t\t\t\t<(6, 6) matrix with 16 non-zero entries>\n",
            "\t\t\t\t[0, 3] = 0.19476988514987448\n",
            "\t\t\t\t[0, 4] = -0.06815260537269571\n",
            "\t\t\t\t[1, 3] = 0.9211834586388092\n",
            "\t\t\t\t[1, 4] = -0.3223344958290447\n",
            "\t\t\t\t[2, 3] = 1.2884564752002376\n",
            "\t\t\t\t... skipping 11 entries\n",
            "\t\t\t\tBeta\n",
            "\t\t\t\tSame values as the corresponding primary-spin data.\n",
            "\t\tDipoleMomentZ\n",
            "\t\t\t(AO) 1-Body Terms:\n",
            "\t\t\t\tAlpha\n",
            "\t\t\t\t<(6, 6) matrix with 11 non-zero entries>\n",
            "\t\t\t\t[0, 4] = 0.14723997517578355\n",
            "\t\t\t\t[0, 5] = 0.03670042894661469\n",
            "\t\t\t\t[1, 4] = 1.8032983195284729\n",
            "\t\t\t\t[1, 5] = 0.9392481470656135\n",
            "\t\t\t\t[4, 0] = 0.14723997517578355\n",
            "\t\t\t\t... skipping 6 entries\n",
            "\t\t\t\tBeta\n",
            "\t\t\t\tSame values as the corresponding primary-spin data.\n",
            "\t\t\t(MO) 1-Body Terms:\n",
            "\t\t\t\tAlpha\n",
            "\t\t\t\t<(6, 6) matrix with 16 non-zero entries>\n",
            "\t\t\t\t[0, 0] = -0.002022121216459113\n",
            "\t\t\t\t[0, 1] = 0.10919299777552549\n",
            "\t\t\t\t[0, 2] = -0.14495439174254957\n",
            "\t\t\t\t[0, 5] = -0.11738098549000145\n",
            "\t\t\t\t[1, 0] = 0.10919299777552548\n",
            "\t\t\t\t... skipping 11 entries\n",
            "\t\t\t\tBeta\n",
            "\t\t\t\tSame values as the corresponding primary-spin data.\n",
            "\tAngularMomentum:\n",
            "\t\t12 SOs\n",
            "\tMagnetization:\n",
            "\t\t12 SOs\n",
            "Molecule:\n",
            "\tMultiplicity: 1\n",
            "\tCharge: 0\n",
            "\tUnit: Angstrom\n",
            "\tGeometry:\n",
            "\t\tLi\t[0.0, 0.0, 0.0]\n",
            "\t\tH\t[0.0, 0.0, 1.5949]\n",
            "\tMasses:\n",
            "\t\tLi\t7\n",
            "\t\tH\t1\n"
          ]
        }
      ]
    },
    {
      "cell_type": "markdown",
      "source": [
        "The following lines provides use a transformation driver in Qiskit to make it easier to run model problems.   In many quantum chemistry simulations, to make things more feasible to run, one often freezes electrons or define limited active orbitals of which electrons can be excited to.  The following function, ActiveSpaceTransformer, takes in the number of particles, and the number of molecular orbitals, and uses its internal routines to define an active space calculation based on the input.  While active space simulations have to be performed carefully when trying to calculate realistic data,  for testing purposes one can expect Qiskit to provide a reasonable active space and freezing of electrons.  In our case, we reduce our simulation from a 12 qubit (6 molecular oribital) simulation to a 6 qubit example.   While this reduces the overall accuracy of the simulation when compared to experiment, it does allow us to test algorithms with reduced computational cost without having to worry to much about specifying all the details.   The simplified model has an exact result, which we can calculate.  Then we can also optimize our VQE with the simplified Hamiltonian and compare the two results."
      ],
      "metadata": {
        "id": "WG_ED9R1eKox"
      }
    },
    {
      "cell_type": "code",
      "source": [
        "\n",
        "\n",
        "particle_number = properties.get_property(ParticleNumber)\n",
        "\n",
        "# specify active space transformation\n",
        "active_space_trafo = ActiveSpaceTransformer(\n",
        "    num_electrons=particle_number.num_particles, num_molecular_orbitals=3\n",
        ")\n",
        "# define electronic structure problem\n",
        "problem = ElectronicStructureProblem(driver, transformers=[active_space_trafo])"
      ],
      "metadata": {
        "id": "3JY7SDipy5yb"
      },
      "execution_count": 32,
      "outputs": []
    },
    {
      "cell_type": "markdown",
      "source": [
        "The following two lines are used to convert from the fermonic quantum chemistry Hamiltonian to a qubit operator."
      ],
      "metadata": {
        "id": "grXC_PJXfmes"
      }
    },
    {
      "cell_type": "code",
      "source": [
        "# construct qubit converter (parity mapping + 2-qubit reduction)\n",
        "qubit_converter = QubitConverter(ParityMapper(), two_qubit_reduction=True)"
      ],
      "metadata": {
        "id": "QRGfiE-Xzbto"
      },
      "execution_count": 33,
      "outputs": []
    },
    {
      "cell_type": "code",
      "source": [
        "# Build the qubit Hamiltonian\n",
        "hamiltonian = qubit_converter.convert(problem.second_q_ops()[0], particle_number.num_particles)"
      ],
      "metadata": {
        "id": "G5oFzDnuzhG8"
      },
      "execution_count": 34,
      "outputs": []
    },
    {
      "cell_type": "markdown",
      "source": [
        "We calcuate the exact solution in the following lines as benchmark data for our VQE simulations."
      ],
      "metadata": {
        "id": "UMgN-2xpgA7b"
      }
    },
    {
      "cell_type": "code",
      "source": [
        "# %% Exact Solution\n",
        "print('Starting ED calculation with NumPy solver...')\n",
        "exact_solver = NumPyMinimumEigensolver()\n",
        "exact_groundstate_solver = GroundStateEigensolver(qubit_converter, exact_solver)\n",
        "\n",
        "exact_result = exact_groundstate_solver.solve(problem)\n",
        "\n",
        "nuclear_repulsion_energy = exact_result.nuclear_repulsion_energy\n",
        "exact_groundstate_energy = np.real(exact_result.eigenenergies[0])\n",
        "\n",
        "print('Done')"
      ],
      "metadata": {
        "id": "dMXLbPo9znY8",
        "colab": {
          "base_uri": "https://localhost:8080/"
        },
        "outputId": "ae2a8c7c-e5c8-49e1-c393-5e868d1d8d62"
      },
      "execution_count": 35,
      "outputs": [
        {
          "output_type": "stream",
          "name": "stdout",
          "text": [
            "Starting ED calculation with NumPy solver...\n",
            "Done\n"
          ]
        }
      ]
    },
    {
      "cell_type": "markdown",
      "source": [
        "The following is used to define the ansatz, for which we are going to use a UCCSD ansatz.   We will use an initial state from our Hartree-Fock results to start our circuit, and we will use random paramters to setup our ansatz."
      ],
      "metadata": {
        "id": "kV3vxT-NhBAA"
      }
    },
    {
      "cell_type": "code",
      "source": [
        "# Define the desired ansatz\n",
        "initial_state = HartreeFock(problem.num_spin_orbitals, particle_number.num_particles, qubit_converter)\n",
        "\n",
        "# ansatz = ExcitationPreserving(hamiltonian.num_qubits, reps=1, initial_state=initial_state)\n",
        "# ansatz = EfficientSU2(reps=1, initial_state=initial_state)\n",
        "ansatz = UCCSD(qubit_converter=qubit_converter, num_particles=particle_number.num_particles,\n",
        "               num_spin_orbitals=problem.num_spin_orbitals, initial_state=initial_state)\n",
        "\n",
        "initial_point = np.random.random(ansatz.num_parameters)\n",
        "\n",
        "backend = StatevectorSimulatorPy()\n",
        "\n",
        "solver = VQE(ansatz=ansatz, initial_point=initial_point,quantum_instance=backend)\n",
        "\n",
        "calc = GroundStateEigensolver(qubit_converter, solver)"
      ],
      "metadata": {
        "id": "OOnp3MAKzvle"
      },
      "execution_count": 36,
      "outputs": []
    },
    {
      "cell_type": "markdown",
      "source": [
        "The following lines runs a single optimization run of VQE in Qiskit"
      ],
      "metadata": {
        "id": "qOS43kQBiaKU"
      }
    },
    {
      "cell_type": "code",
      "source": [
        "print('Starting VQE Calculation...')\n",
        "\n",
        "vqe_result = calc.solve(problem)\n",
        "\n",
        "vqe_groundstate_energy = vqe_result.groundenergy\n",
        "vqe_abs_error = np.abs(vqe_groundstate_energy - exact_groundstate_energy)\n",
        "print('Done')\n",
        "print(f'Exact Groundstate Eigenvalue: {exact_groundstate_energy + nuclear_repulsion_energy:>}')\n",
        "print(f'VQE Absolute Error: {vqe_abs_error:.2e}')"
      ],
      "metadata": {
        "id": "pQ9cHSCn0HcU"
      },
      "execution_count": null,
      "outputs": []
    },
    {
      "cell_type": "markdown",
      "source": [
        "As before, local minimum are always a problem, and we will want to run multiple times."
      ],
      "metadata": {
        "id": "ftJ1TPHih1fL"
      }
    },
    {
      "cell_type": "code",
      "source": [
        "    # Iterate VQE calculation to find a good optimized circuit\n",
        "    optimal_vqe_result = solver.compute_minimum_eigenvalue(hamiltonian)\n",
        "    print('Starting VQE runs...')\n",
        "    ii = 0\n",
        "    for ii in range(num_runs):\n",
        "\n",
        "        # Generate a new initial point for the VQE\n",
        "        new_initial_point = np.random.random(ansatz.num_parameters)\n",
        "        solver.initial_point = new_initial_point\n",
        "\n",
        "        # Calculate the minimum eigenvalue\n",
        "        current_vqe_result = solver.compute_minimum_eigenvalue(hamiltonian)\n",
        "\n",
        "        print(f'Finished VQE run {ii + 1}/{num_runs}.', end=\"\\n\")\n",
        "\n",
        "        current_diff = np.abs(current_vqe_result.eigenvalue.real - exact_groundstate_energy)\n",
        "        optimal_diff = np.abs(optimal_vqe_result.eigenvalue.real - exact_groundstate_energy)\n",
        "        print('current_diff',current_diff, '\\n')\n",
        "\n",
        "        if current_diff < optimal_diff:\n",
        "            optimal_vqe_result = current_vqe_result"
      ],
      "metadata": {
        "id": "AdJoh1_10boM"
      },
      "execution_count": null,
      "outputs": []
    },
    {
      "cell_type": "markdown",
      "source": [
        "Exercise: As with the simple Hamiltonian in the previous section, we would like to plot the energies and see the scatter in the optimization for this molecular example.  Modify the above code to make these plots."
      ],
      "metadata": {
        "id": "lixxCCUQiZum"
      }
    },
    {
      "cell_type": "markdown",
      "source": [
        "Exercise:  In general we want to calculate the energy as a function of bonding distance between two molecules.  \n",
        "Take the LiH example above, and calculate 20 distances between 0.5 and 3 angstroms, both with the exact results and the UCCSD VQE results.   Plot your results(matplotlib)."
      ],
      "metadata": {
        "id": "YN6zK9kxjpml"
      }
    },
    {
      "cell_type": "markdown",
      "source": [
        "Exercise:  Stretching a bond in chemistry is much more difficult than calculating the energy at an equilbrium geometry.   We expect to see the error increase for stretched simulations than at equilibrium.   We can investigate this with the results from the previous exercise, and calculate the average error (over 20 optimizations) as a function of distance.  Plot your results(matplotlib).  Do you see a noticeable increase an error as the bond is stretched.  In this particular case you might not, as the simulation is quite small.  Finding suitably hard test cases is important when trying to benchmark an algorithm.  We currently do not have a lot of data on how well UCC will perform on a quantum computer when applied to larger problems."
      ],
      "metadata": {
        "id": "wSMRNVABjKWp"
      }
    }
  ]
}